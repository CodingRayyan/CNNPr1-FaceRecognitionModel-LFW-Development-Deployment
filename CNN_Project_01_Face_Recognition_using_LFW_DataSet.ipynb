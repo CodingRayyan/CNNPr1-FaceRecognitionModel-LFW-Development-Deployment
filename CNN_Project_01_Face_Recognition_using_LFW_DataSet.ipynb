{
  "nbformat": 4,
  "nbformat_minor": 0,
  "metadata": {
    "colab": {
      "provenance": []
    },
    "kernelspec": {
      "name": "python3",
      "display_name": "Python 3"
    },
    "language_info": {
      "name": "python"
    }
  },
  "cells": [
    {
      "cell_type": "markdown",
      "source": [
        "<br>\n",
        "\n",
        "# AI Domain: Convolutional Neural Network (CNN)\n",
        "## CNN Project 01: Face Recognition using LFW DataSet.\n",
        "\n",
        "| Prepared by | Rayyan Ahmed |\n",
        "|-------------|--------------|\n",
        "| Date | 20-21th March, 2025\n",
        "\n",
        "<br>\n",
        "\n",
        "### Libraries Used:\n",
        "- Numpy\n",
        "- Pandas\n",
        "- Matplotlib\n",
        "- Scikit-Learn\n",
        "- Tensorflow\n",
        "- Keras\n",
        "- Streamlit (Model Deployment in other app.py)\n",
        "- Pillow"
      ],
      "metadata": {
        "id": "KBk0-jShWyJe"
      }
    },
    {
      "cell_type": "markdown",
      "source": [
        "<br>\n",
        "\n",
        "# Loading dataFrame\n",
        "\n",
        "<br>"
      ],
      "metadata": {
        "id": "MCsINq2WZWUS"
      }
    },
    {
      "cell_type": "code",
      "source": [
        "import numpy as np\n",
        "from sklearn.datasets import fetch_lfw_people"
      ],
      "metadata": {
        "id": "VZtwuRXvZaOv"
      },
      "execution_count": 1,
      "outputs": []
    },
    {
      "cell_type": "code",
      "source": [
        "df = fetch_lfw_people(min_faces_per_person = 70, resize = 0.4)\n",
        "df"
      ],
      "metadata": {
        "colab": {
          "base_uri": "https://localhost:8080/"
        },
        "id": "cXNR5-xZcI0R",
        "outputId": "5463c11a-ea3b-436b-f67b-decab759e726"
      },
      "execution_count": 2,
      "outputs": [
        {
          "output_type": "execute_result",
          "data": {
            "text/plain": [
              "{'data': array([[0.9973857 , 0.99607843, 0.9921568 , ..., 0.38169935, 0.38823533,\n",
              "         0.3803922 ],\n",
              "        [0.14771242, 0.19738562, 0.1751634 , ..., 0.45751634, 0.44444445,\n",
              "         0.53594774],\n",
              "        [0.34379086, 0.39477125, 0.49150327, ..., 0.709804  , 0.72156864,\n",
              "         0.7163399 ],\n",
              "        ...,\n",
              "        [0.3633987 , 0.3372549 , 0.30718955, ..., 0.19738562, 0.22091503,\n",
              "         0.19346406],\n",
              "        [0.19346406, 0.24705882, 0.34248367, ..., 0.7346406 , 0.6640523 ,\n",
              "         0.6117647 ],\n",
              "        [0.11633987, 0.10196079, 0.1267974 , ..., 0.13333334, 0.13725491,\n",
              "         0.2535948 ]], dtype=float32),\n",
              " 'images': array([[[0.9973857 , 0.99607843, 0.9921568 , ..., 0.29803923,\n",
              "          0.24836601, 0.20653595],\n",
              "         [0.9973857 , 0.9921569 , 0.9908497 , ..., 0.30588236,\n",
              "          0.2535948 , 0.21568628],\n",
              "         [0.96078426, 0.93071896, 0.8679738 , ..., 0.2875817 ,\n",
              "          0.24183007, 0.21568628],\n",
              "         ...,\n",
              "         [0.34509805, 0.26143792, 0.17385621, ..., 0.4248366 ,\n",
              "          0.40261438, 0.39084968],\n",
              "         [0.30980393, 0.23398693, 0.17124183, ..., 0.39869282,\n",
              "          0.4013072 , 0.3764706 ],\n",
              "         [0.28366014, 0.2248366 , 0.18039216, ..., 0.38169935,\n",
              "          0.38823533, 0.3803922 ]],\n",
              " \n",
              "        [[0.14771242, 0.19738562, 0.1751634 , ..., 0.24183007,\n",
              "          0.2       , 0.14509805],\n",
              "         [0.18039216, 0.24836601, 0.24575163, ..., 0.21437909,\n",
              "          0.21960784, 0.1751634 ],\n",
              "         [0.21045752, 0.303268  , 0.33594772, ..., 0.2653595 ,\n",
              "          0.18431373, 0.16993465],\n",
              "         ...,\n",
              "         [0.2875817 , 0.29803923, 0.29673204, ..., 0.503268  ,\n",
              "          0.46797386, 0.4535948 ],\n",
              "         [0.29411766, 0.29803923, 0.303268  , ..., 0.4928105 ,\n",
              "          0.4496732 , 0.45359477],\n",
              "         [0.30457518, 0.29673204, 0.29673204, ..., 0.45751634,\n",
              "          0.44444445, 0.53594774]],\n",
              " \n",
              "        [[0.34379086, 0.39477125, 0.49150327, ..., 0.5803922 ,\n",
              "          0.58954257, 0.58300656],\n",
              "         [0.38169935, 0.5071896 , 0.57124186, ..., 0.6261439 ,\n",
              "          0.5908497 , 0.5751634 ],\n",
              "         [0.48366013, 0.5686275 , 0.579085  , ..., 0.64183015,\n",
              "          0.59738564, 0.5751634 ],\n",
              "         ...,\n",
              "         [0.29673204, 0.2875817 , 0.28496733, ..., 0.46013072,\n",
              "          0.6732027 , 0.70326805],\n",
              "         [0.28627452, 0.26666668, 0.27058825, ..., 0.5908497 ,\n",
              "          0.7267974 , 0.7098039 ],\n",
              "         [0.3150327 , 0.25490198, 0.26013073, ..., 0.709804  ,\n",
              "          0.72156864, 0.7163399 ]],\n",
              " \n",
              "        ...,\n",
              " \n",
              "        [[0.3633987 , 0.3372549 , 0.30718955, ..., 0.1633987 ,\n",
              "          0.1633987 , 0.18562092],\n",
              "         [0.35947713, 0.3124183 , 0.32026145, ..., 0.16993465,\n",
              "          0.16209151, 0.17124183],\n",
              "         [0.30457518, 0.26666668, 0.38039216, ..., 0.18562092,\n",
              "          0.17254902, 0.16993465],\n",
              "         ...,\n",
              "         [0.38169935, 0.36601308, 0.35947713, ..., 0.2901961 ,\n",
              "          0.34509805, 0.4       ],\n",
              "         [0.36078432, 0.35816994, 0.37254903, ..., 0.20261438,\n",
              "          0.25490198, 0.27450982],\n",
              "         [0.32156864, 0.3281046 , 0.34117648, ..., 0.19738562,\n",
              "          0.22091503, 0.19346406]],\n",
              " \n",
              "        [[0.19346406, 0.24705882, 0.34248367, ..., 0.5882353 ,\n",
              "          0.5947712 , 0.5647059 ],\n",
              "         [0.22875817, 0.32287583, 0.39084968, ..., 0.58300656,\n",
              "          0.56078434, 0.55947715],\n",
              "         [0.23006536, 0.351634  , 0.37124184, ..., 0.5882353 ,\n",
              "          0.53464055, 0.53464055],\n",
              "         ...,\n",
              "         [0.23660131, 0.23921569, 0.24313726, ..., 0.5542484 ,\n",
              "          0.63137263, 0.6104575 ],\n",
              "         [0.24052288, 0.24183007, 0.24575163, ..., 0.71111107,\n",
              "          0.6535948 , 0.6169935 ],\n",
              "         [0.24183007, 0.24052288, 0.24444444, ..., 0.7346406 ,\n",
              "          0.6640523 , 0.6117647 ]],\n",
              " \n",
              "        [[0.11633987, 0.10196079, 0.1267974 , ..., 0.34248367,\n",
              "          0.20130719, 0.17908497],\n",
              "         [0.12156863, 0.12418301, 0.14379086, ..., 0.41045752,\n",
              "          0.20522876, 0.15816994],\n",
              "         [0.13071896, 0.13202615, 0.14901961, ..., 0.4888889 ,\n",
              "          0.26928106, 0.19477125],\n",
              "         ...,\n",
              "         [0.18169935, 0.17254902, 0.17254902, ..., 0.09281046,\n",
              "          0.07058824, 0.13986929],\n",
              "         [0.16470589, 0.1633987 , 0.1764706 , ..., 0.0875817 ,\n",
              "          0.10326798, 0.1764706 ],\n",
              "         [0.17908497, 0.19477125, 0.20392157, ..., 0.13333334,\n",
              "          0.13725491, 0.2535948 ]]], dtype=float32),\n",
              " 'target': array([5, 6, 3, ..., 5, 3, 5]),\n",
              " 'target_names': array(['Ariel Sharon', 'Colin Powell', 'Donald Rumsfeld', 'George W Bush',\n",
              "        'Gerhard Schroeder', 'Hugo Chavez', 'Tony Blair'], dtype='<U17'),\n",
              " 'DESCR': \".. _labeled_faces_in_the_wild_dataset:\\n\\nThe Labeled Faces in the Wild face recognition dataset\\n------------------------------------------------------\\n\\nThis dataset is a collection of JPEG pictures of famous people collected\\nover the internet, all details are available on the official website:\\n\\nhttp://vis-www.cs.umass.edu/lfw/\\n\\nEach picture is centered on a single face. The typical task is called\\nFace Verification: given a pair of two pictures, a binary classifier\\nmust predict whether the two images are from the same person.\\n\\nAn alternative task, Face Recognition or Face Identification is:\\ngiven the picture of the face of an unknown person, identify the name\\nof the person by referring to a gallery of previously seen pictures of\\nidentified persons.\\n\\nBoth Face Verification and Face Recognition are tasks that are typically\\nperformed on the output of a model trained to perform Face Detection. The\\nmost popular model for Face Detection is called Viola-Jones and is\\nimplemented in the OpenCV library. The LFW faces were extracted by this\\nface detector from various online websites.\\n\\n**Data Set Characteristics:**\\n\\n=================   =======================\\nClasses                                5749\\nSamples total                         13233\\nDimensionality                         5828\\nFeatures            real, between 0 and 255\\n=================   =======================\\n\\n.. dropdown:: Usage\\n\\n  ``scikit-learn`` provides two loaders that will automatically download,\\n  cache, parse the metadata files, decode the jpeg and convert the\\n  interesting slices into memmapped numpy arrays. This dataset size is more\\n  than 200 MB. The first load typically takes more than a couple of minutes\\n  to fully decode the relevant part of the JPEG files into numpy arrays. If\\n  the dataset has  been loaded once, the following times the loading times\\n  less than 200ms by using a memmapped version memoized on the disk in the\\n  ``~/scikit_learn_data/lfw_home/`` folder using ``joblib``.\\n\\n  The first loader is used for the Face Identification task: a multi-class\\n  classification task (hence supervised learning)::\\n\\n    >>> from sklearn.datasets import fetch_lfw_people\\n    >>> lfw_people = fetch_lfw_people(min_faces_per_person=70, resize=0.4)\\n\\n    >>> for name in lfw_people.target_names:\\n    ...     print(name)\\n    ...\\n    Ariel Sharon\\n    Colin Powell\\n    Donald Rumsfeld\\n    George W Bush\\n    Gerhard Schroeder\\n    Hugo Chavez\\n    Tony Blair\\n\\n  The default slice is a rectangular shape around the face, removing\\n  most of the background::\\n\\n    >>> lfw_people.data.dtype\\n    dtype('float32')\\n\\n    >>> lfw_people.data.shape\\n    (1288, 1850)\\n\\n    >>> lfw_people.images.shape\\n    (1288, 50, 37)\\n\\n  Each of the ``1140`` faces is assigned to a single person id in the ``target``\\n  array::\\n\\n    >>> lfw_people.target.shape\\n    (1288,)\\n\\n    >>> list(lfw_people.target[:10])\\n    [5, 6, 3, 1, 0, 1, 3, 4, 3, 0]\\n\\n  The second loader is typically used for the face verification task: each sample\\n  is a pair of two picture belonging or not to the same person::\\n\\n    >>> from sklearn.datasets import fetch_lfw_pairs\\n    >>> lfw_pairs_train = fetch_lfw_pairs(subset='train')\\n\\n    >>> list(lfw_pairs_train.target_names)\\n    ['Different persons', 'Same person']\\n\\n    >>> lfw_pairs_train.pairs.shape\\n    (2200, 2, 62, 47)\\n\\n    >>> lfw_pairs_train.data.shape\\n    (2200, 5828)\\n\\n    >>> lfw_pairs_train.target.shape\\n    (2200,)\\n\\n  Both for the :func:`sklearn.datasets.fetch_lfw_people` and\\n  :func:`sklearn.datasets.fetch_lfw_pairs` function it is\\n  possible to get an additional dimension with the RGB color channels by\\n  passing ``color=True``, in that case the shape will be\\n  ``(2200, 2, 62, 47, 3)``.\\n\\n  The :func:`sklearn.datasets.fetch_lfw_pairs` datasets is subdivided into\\n  3 subsets: the development ``train`` set, the development ``test`` set and\\n  an evaluation ``10_folds`` set meant to compute performance metrics using a\\n  10-folds cross validation scheme.\\n\\n.. rubric:: References\\n\\n* `Labeled Faces in the Wild: A Database for Studying Face Recognition\\n  in Unconstrained Environments.\\n  <http://vis-www.cs.umass.edu/lfw/lfw.pdf>`_\\n  Gary B. Huang, Manu Ramesh, Tamara Berg, and Erik Learned-Miller.\\n  University of Massachusetts, Amherst, Technical Report 07-49, October, 2007.\\n\\n\\n.. rubric:: Examples\\n\\n* :ref:`sphx_glr_auto_examples_applications_plot_face_recognition.py`\\n\"}"
            ]
          },
          "metadata": {},
          "execution_count": 2
        }
      ]
    },
    {
      "cell_type": "markdown",
      "source": [
        "<br>\n",
        "\n",
        "# DataSet SHape\n",
        "\n",
        "<br>"
      ],
      "metadata": {
        "id": "ZSyS_ui4cpvE"
      }
    },
    {
      "cell_type": "code",
      "source": [
        "df.data.shape, df.images.shape, df.target.shape, df.target_names.shape"
      ],
      "metadata": {
        "colab": {
          "base_uri": "https://localhost:8080/"
        },
        "id": "FjzaKKPTc5YM",
        "outputId": "70b9b62f-13de-459b-f309-baf8a2211fdf"
      },
      "execution_count": 3,
      "outputs": [
        {
          "output_type": "execute_result",
          "data": {
            "text/plain": [
              "((1288, 1850), (1288, 50, 37), (1288,), (7,))"
            ]
          },
          "metadata": {},
          "execution_count": 3
        }
      ]
    },
    {
      "cell_type": "markdown",
      "source": [
        "#### Each row in the data array corresponds to one image, and each value in that row represents a pixel's intensity (normalized between 0 and 1).\n",
        "#### Since the shape is (1288, 1850):\n",
        "- 1288 → Total number of images.\n",
        "- 1850 → Number of pixel values per image (which means each image has 1850 pixels).\n",
        "#### Example:\n",
        "- Look at the first row of data: [0.9973857 , 0.99607843, 0.9921568 , ..., 0.38169935, 0.38823533, 0.3803922 ] which is representing 1st image of dataset.\n",
        "- Here, the values \"0.9973857, 0.99607843... 0.3803922\" are representing the pixels of 1st image.\n",
        "- i.e: 1st pixel is 99.73857% gray, 2nd is 99.607843% gray and last pixel is 38.03922% gray.\n",
        "\n",
        "---\n",
        "\n",
        "#### Each double bracket [[ ... ]] represents a single image, which is a 2D matrix (height × width).\n",
        "#### From the shape (1288, 50, 37), we can see that:\n",
        "- Each image has 50 rows (height).\n",
        "- Each row has 37 values (width, i.e., columns).\n",
        "- Each double bracket [[ ... ]] contains 50 rows, where each row has 37 values."
      ],
      "metadata": {
        "id": "2f9ej8I1dWxU"
      }
    },
    {
      "cell_type": "markdown",
      "source": [
        "<br>\n",
        "\n",
        "# Getting Image Pixels of Target Label 1:\n",
        "\n",
        "<br>"
      ],
      "metadata": {
        "id": "PZzGEcZAeKMe"
      }
    },
    {
      "cell_type": "code",
      "source": [
        "images_label_i = df.images[df.target == 1]\n",
        "print(images_label_i)"
      ],
      "metadata": {
        "colab": {
          "base_uri": "https://localhost:8080/"
        },
        "id": "WsSPare7eWag",
        "outputId": "30907af6-1c9b-458d-9c15-af050dbcfe3c"
      },
      "execution_count": 4,
      "outputs": [
        {
          "output_type": "stream",
          "name": "stdout",
          "text": [
            "[[[0.04705882 0.01699346 0.02352941 ... 0.02745098 0.02352941 0.02222222]\n",
            "  [0.2771242  0.13202615 0.03529412 ... 0.02745098 0.02222222 0.02222222]\n",
            "  [0.50849676 0.3882353  0.21960784 ... 0.03006536 0.02091503 0.01437909]\n",
            "  ...\n",
            "  [0.43529412 0.39607844 0.3267974  ... 0.1006536  0.19215687 0.25490198]\n",
            "  [0.33333334 0.3019608  0.27189544 ... 0.07189543 0.16078432 0.21960784]\n",
            "  [0.26666668 0.23660131 0.22352941 ... 0.06535948 0.14248367 0.20130719]]\n",
            "\n",
            " [[0.24705882 0.28627452 0.30718955 ... 0.7660131  0.66013074 0.5163399 ]\n",
            "  [0.27320263 0.2901961  0.30588236 ... 0.76732033 0.69673204 0.5267974 ]\n",
            "  [0.28235295 0.29542485 0.32026145 ... 0.73071903 0.7320261  0.5764706 ]\n",
            "  ...\n",
            "  [0.20261438 0.530719   0.6653595  ... 0.27450982 0.38431373 0.43398693]\n",
            "  [0.07320262 0.33071896 0.6366013  ... 0.22222222 0.4013072  0.45098042]\n",
            "  [0.0496732  0.14771242 0.5294118  ... 0.20261438 0.30588236 0.43398693]]\n",
            "\n",
            " [[0.45751634 0.44313726 0.47843137 ... 0.09411765 0.05490196 0.0496732 ]\n",
            "  [0.5045752  0.503268   0.5137255  ... 0.08366013 0.05490196 0.04183007]\n",
            "  [0.48366013 0.5058824  0.5150327  ... 0.1633987  0.04183007 0.04052288]\n",
            "  ...\n",
            "  [0.11503268 0.07973856 0.08888889 ... 0.21960784 0.17908497 0.19738562]\n",
            "  [0.11764706 0.08888889 0.07973856 ... 0.1633987  0.18954249 0.19084968]\n",
            "  [0.12287582 0.08366013 0.08366013 ... 0.17124183 0.20261438 0.19869281]]\n",
            "\n",
            " ...\n",
            "\n",
            " [[0.4143791  0.17385621 0.19346406 ... 0.6431373  0.63137263 0.63398695]\n",
            "  [0.6130719  0.4405229  0.47189543 ... 0.6418301  0.65751636 0.6862745 ]\n",
            "  [0.5058824  0.5281046  0.56993467 ... 0.6627451  0.69803923 0.7098039 ]\n",
            "  ...\n",
            "  [0.11111111 0.10718954 0.2771242  ... 0.20392157 0.22091503 0.22745098]\n",
            "  [0.13594772 0.11633987 0.15424837 ... 0.22745098 0.22352941 0.22614379]\n",
            "  [0.1267974  0.13333334 0.12026144 ... 0.23006536 0.23006536 0.22222222]]\n",
            "\n",
            " [[0.55947715 0.5555556  0.5424837  ... 0.5738562  0.61960787 0.6039216 ]\n",
            "  [0.5529412  0.54509807 0.5542484  ... 0.57124186 0.6        0.59738564]\n",
            "  [0.54901963 0.54901963 0.62352943 ... 0.52287585 0.5620915  0.579085  ]\n",
            "  ...\n",
            "  [0.45228758 0.41960785 0.3529412  ... 0.27189544 0.34248367 0.5137255 ]\n",
            "  [0.4627451  0.42352942 0.3620915  ... 0.42352942 0.6509804  0.7856209 ]\n",
            "  [0.51111114 0.4379085  0.3633987  ... 0.7542484  0.8169935  0.78431374]]\n",
            "\n",
            " [[0.38039216 0.32941177 0.3150327  ... 0.3673203  0.37385622 0.4       ]\n",
            "  [0.38300654 0.33202615 0.31633988 ... 0.37385622 0.3764706  0.39215687]\n",
            "  [0.34379086 0.32418302 0.3267974  ... 0.36993468 0.36209154 0.3764706 ]\n",
            "  ...\n",
            "  [0.3647059  0.54509807 0.6013072  ... 0.7098039  0.56993467 0.3006536 ]\n",
            "  [0.3398693  0.52418303 0.63529414 ... 0.7294118  0.5673203  0.27450982]\n",
            "  [0.33333334 0.5150327  0.6509804  ... 0.7424837  0.56993467 0.2535948 ]]]\n"
          ]
        }
      ]
    },
    {
      "cell_type": "markdown",
      "source": [],
      "metadata": {
        "id": "x1KAjC_SeqoI"
      }
    },
    {
      "cell_type": "markdown",
      "source": [
        "<br>\n",
        "\n",
        "# Plotting Images for Target Names\n",
        "\n",
        "<br>"
      ],
      "metadata": {
        "id": "LiXezLS_fB4B"
      }
    },
    {
      "cell_type": "code",
      "source": [
        "import matplotlib.pyplot as plt"
      ],
      "metadata": {
        "id": "jH9P3wHjj0nn"
      },
      "execution_count": 5,
      "outputs": []
    },
    {
      "cell_type": "code",
      "source": [
        "for label, name in enumerate(df.target_names):\n",
        "    print(f\"Label: {label}, Name: {name}\")\n",
        "\n",
        "ask = input(\"\\nEnter label for name: \")\n",
        "num = int(input(\"Enter number of images: \"))\n",
        "\n",
        "image_label = df.images[df.target == int(ask)]\n",
        "\n",
        "for i in range(min(len(image_label), num)):\n",
        "    print(f\"\\nShowing image {i+1} of {df.target_names[int(ask)]}\")\n",
        "    plt.imshow(image_label[i], cmap='gray')\n",
        "    plt.axis('off')\n",
        "    plt.show()"
      ],
      "metadata": {
        "colab": {
          "base_uri": "https://localhost:8080/",
          "height": 1000
        },
        "id": "SWciSBxjft27",
        "outputId": "ed6687a7-10db-489f-aef6-792e7fdef17b"
      },
      "execution_count": 6,
      "outputs": [
        {
          "output_type": "stream",
          "name": "stdout",
          "text": [
            "Label: 0, Name: Ariel Sharon\n",
            "Label: 1, Name: Colin Powell\n",
            "Label: 2, Name: Donald Rumsfeld\n",
            "Label: 3, Name: George W Bush\n",
            "Label: 4, Name: Gerhard Schroeder\n",
            "Label: 5, Name: Hugo Chavez\n",
            "Label: 6, Name: Tony Blair\n",
            "\n",
            "Enter label for name: 3\n",
            "Enter number of images: 4\n",
            "\n",
            "Showing image 1 of George W Bush\n"
          ]
        },
        {
          "output_type": "display_data",
          "data": {
            "text/plain": [
              "<Figure size 640x480 with 1 Axes>"
            ],
            "image/png": "[encoded data removed]"
          },
          "metadata": {}
        },
        {
          "output_type": "stream",
          "name": "stdout",
          "text": [
            "\n",
            "Showing image 2 of George W Bush\n"
          ]
        },
        {
          "output_type": "display_data",
          "data": {
            "text/plain": [
              "<Figure size 640x480 with 1 Axes>"
            ],
            "image/png": "[encoded data removed]"
          },
          "metadata": {}
        },
        {
          "output_type": "stream",
          "name": "stdout",
          "text": [
            "\n",
            "Showing image 3 of George W Bush\n"
          ]
        },
        {
          "output_type": "display_data",
          "data": {
            "text/plain": [
              "<Figure size 640x480 with 1 Axes>"
            ],
            "image/png": "[encoded data removed]"
          },
          "metadata": {}
        },
        {
          "output_type": "stream",
          "name": "stdout",
          "text": [
            "\n",
            "Showing image 4 of George W Bush\n"
          ]
        },
        {
          "output_type": "display_data",
          "data": {
            "text/plain": [
              "<Figure size 640x480 with 1 Axes>"
            ],
            "image/png": "[encoded data removed]"
          },
          "metadata": {}
        }
      ]
    },
    {
      "cell_type": "markdown",
      "source": [
        "<br>\n",
        "\n",
        "# Accessing Single Image\n",
        "\n",
        "<br>"
      ],
      "metadata": {
        "id": "DGuNxAemnKn6"
      }
    },
    {
      "cell_type": "code",
      "source": [
        "name_index = {'Ariel Sharon' : 0, 'Colin Powell' : 1, 'Donald Rumsfeld' : 2, 'George W Bush' : 3,'Gerhard Schroeder' : 4, 'Hugo Chavez' : 5, 'Tony Blair' : 6}\n",
        "name_index['Ariel Sharon']"
      ],
      "metadata": {
        "colab": {
          "base_uri": "https://localhost:8080/"
        },
        "id": "eDyCDTuxmjqr",
        "outputId": "5deeb48b-5aa7-41f2-eb18-e5f55b8e0aaa"
      },
      "execution_count": 52,
      "outputs": [
        {
          "output_type": "execute_result",
          "data": {
            "text/plain": [
              "0"
            ]
          },
          "metadata": {},
          "execution_count": 52
        }
      ]
    },
    {
      "cell_type": "code",
      "source": [
        "image = df.data[4].reshape((50, 37))\n",
        "\n",
        "plt.imshow(image, cmap='gray')\n",
        "plt.axis('off')\n",
        "plt.show()"
      ],
      "metadata": {
        "colab": {
          "base_uri": "https://localhost:8080/",
          "height": 406
        },
        "id": "51EEgFhhnwIu",
        "outputId": "d7a4164a-af61-46f9-9e04-5d8715f4928c"
      },
      "execution_count": 59,
      "outputs": [
        {
          "output_type": "display_data",
          "data": {
            "text/plain": [
              "<Figure size 640x480 with 1 Axes>"
            ],
            "image/png": "[encoded data removed]"
          },
          "metadata": {}
        }
      ]
    },
    {
      "cell_type": "markdown",
      "source": [
        "<br>\n",
        "\n",
        "# Seperating x & y axis\n",
        "\n",
        "<br>"
      ],
      "metadata": {
        "id": "Sz9TCbIApBbq"
      }
    },
    {
      "cell_type": "code",
      "source": [
        "x, y = df.images, df.target"
      ],
      "metadata": {
        "id": "jl5wx7Rdhy9Y"
      },
      "execution_count": 8,
      "outputs": []
    },
    {
      "cell_type": "code",
      "source": [
        "target_names = df.target_names"
      ],
      "metadata": {
        "id": "H7E66dCgiDWV"
      },
      "execution_count": 9,
      "outputs": []
    },
    {
      "cell_type": "code",
      "source": [
        "print(f\"x shape: {x.shape}, y shape: {y.shape}\")"
      ],
      "metadata": {
        "colab": {
          "base_uri": "https://localhost:8080/"
        },
        "id": "3izQe6Owitm-",
        "outputId": "60581901-4008-4ffe-cfba-c9d0d42f769c"
      },
      "execution_count": 10,
      "outputs": [
        {
          "output_type": "stream",
          "name": "stdout",
          "text": [
            "x shape: (1288, 50, 37), y shape: (1288,)\n"
          ]
        }
      ]
    },
    {
      "cell_type": "code",
      "source": [
        "x.shape, y.shape"
      ],
      "metadata": {
        "colab": {
          "base_uri": "https://localhost:8080/"
        },
        "id": "1emlfRmMixiJ",
        "outputId": "0db9f60e-2f76-4379-cb7e-1835a637c41a"
      },
      "execution_count": 11,
      "outputs": [
        {
          "output_type": "execute_result",
          "data": {
            "text/plain": [
              "((1288, 50, 37), (1288,))"
            ]
          },
          "metadata": {},
          "execution_count": 11
        }
      ]
    },
    {
      "cell_type": "markdown",
      "source": [
        "<br>\n",
        "\n",
        "# Reshaping x for CNN Ease\n",
        "\n",
        "<br>"
      ],
      "metadata": {
        "id": "0hJtPmUcjjuQ"
      }
    },
    {
      "cell_type": "code",
      "source": [
        "x = x.reshape(x.shape[0], x.shape[1], x.shape[2], 1)"
      ],
      "metadata": {
        "id": "-wvFF3yxkCBe"
      },
      "execution_count": 13,
      "outputs": []
    },
    {
      "cell_type": "markdown",
      "source": [
        "<br>\n",
        "\n",
        "# One-hot Encoding of y\n",
        "\n",
        "<br>"
      ],
      "metadata": {
        "id": "DZ5zj0lQl7lJ"
      }
    },
    {
      "cell_type": "code",
      "source": [
        "from tensorflow.keras.utils import to_categorical"
      ],
      "metadata": {
        "id": "WX1K56Uzl65R"
      },
      "execution_count": 14,
      "outputs": []
    },
    {
      "cell_type": "code",
      "source": [
        "cat_y = to_categorical(y)\n",
        "cat_y, cat_y[0], len(cat_y[0])"
      ],
      "metadata": {
        "colab": {
          "base_uri": "https://localhost:8080/"
        },
        "id": "iyciskY4nm5I",
        "outputId": "369065cb-c150-4cef-95b9-67aecb0bfe86"
      },
      "execution_count": 16,
      "outputs": [
        {
          "output_type": "execute_result",
          "data": {
            "text/plain": [
              "(array([[0., 0., 0., ..., 0., 1., 0.],\n",
              "        [0., 0., 0., ..., 0., 0., 1.],\n",
              "        [0., 0., 0., ..., 0., 0., 0.],\n",
              "        ...,\n",
              "        [0., 0., 0., ..., 0., 1., 0.],\n",
              "        [0., 0., 0., ..., 0., 0., 0.],\n",
              "        [0., 0., 0., ..., 0., 1., 0.]]),\n",
              " array([0., 0., 0., 0., 0., 1., 0.]),\n",
              " 7)"
            ]
          },
          "metadata": {},
          "execution_count": 16
        }
      ]
    },
    {
      "cell_type": "markdown",
      "source": [
        "<br>\n",
        "\n",
        "# Train Test Split\n",
        "\n",
        "<br>"
      ],
      "metadata": {
        "id": "NczrFp4-ox_b"
      }
    },
    {
      "cell_type": "code",
      "source": [
        "from sklearn.model_selection import train_test_split"
      ],
      "metadata": {
        "id": "1K4zkmGfphl-"
      },
      "execution_count": 17,
      "outputs": []
    },
    {
      "cell_type": "code",
      "source": [
        "x_train, x_test, y_train, y_test = train_test_split(x, cat_y, test_size = 0.2, random_state = 42)"
      ],
      "metadata": {
        "id": "wldT3CF-pAGb"
      },
      "execution_count": 18,
      "outputs": []
    },
    {
      "cell_type": "code",
      "source": [
        "x_train.shape, x_test.shape, y_train.shape, y_test.shape"
      ],
      "metadata": {
        "colab": {
          "base_uri": "https://localhost:8080/"
        },
        "id": "Be9cvOh-ppb0",
        "outputId": "1c99b936-37c7-43ea-c832-556ac320030f"
      },
      "execution_count": 19,
      "outputs": [
        {
          "output_type": "execute_result",
          "data": {
            "text/plain": [
              "((1030, 50, 37, 1), (258, 50, 37, 1), (1030, 7), (258, 7))"
            ]
          },
          "metadata": {},
          "execution_count": 19
        }
      ]
    },
    {
      "cell_type": "markdown",
      "source": [
        "<br>\n",
        "\n",
        "# Building Sequential Layers\n",
        "\n",
        "<br>"
      ],
      "metadata": {
        "id": "JaP5YIfGp11C"
      }
    },
    {
      "cell_type": "code",
      "source": [
        "import tensorflow as tf\n",
        "from tensorflow.keras.models import Sequential\n",
        "from tensorflow.keras.layers import Conv2D, MaxPooling2D, Flatten, Dense"
      ],
      "metadata": {
        "id": "lIURgwNmp8tn"
      },
      "execution_count": 20,
      "outputs": []
    },
    {
      "cell_type": "code",
      "source": [
        "import tensorflow as tf\n",
        "from tensorflow.keras.models import Sequential\n",
        "from tensorflow.keras.layers import Conv2D, MaxPooling2D, Flatten, Dense, Dropout\n",
        "\n",
        "model = Sequential([\n",
        "    Conv2D(32, (3,3), activation='relu', input_shape=(50, 37, 1)),\n",
        "    MaxPooling2D(2,2),\n",
        "\n",
        "    Conv2D(64, (3,3), activation='relu'),\n",
        "    MaxPooling2D(2,2),\n",
        "\n",
        "    Flatten(),\n",
        "    Dense(128, activation='relu'),\n",
        "    #Dropout(0.5),\n",
        "    Dense(len(target_names), activation='softmax')  # Output layer\n",
        "])\n",
        "\n",
        "model.compile(optimizer='adam', loss='categorical_crossentropy', metrics=['accuracy'])\n",
        "\n",
        "model.summary()\n"
      ],
      "metadata": {
        "colab": {
          "base_uri": "https://localhost:8080/",
          "height": 374
        },
        "id": "zvNyB0SPqjVd",
        "outputId": "6882ff59-20ba-4688-86c0-95d6b021f155"
      },
      "execution_count": 22,
      "outputs": [
        {
          "output_type": "display_data",
          "data": {
            "text/plain": [
              "\u001b[1mModel: \"sequential_1\"\u001b[0m\n"
            ],
            "text/html": [
              "<pre style=\"white-space:pre;overflow-x:auto;line-height:normal;font-family:Menlo,'DejaVu Sans Mono',consolas,'Courier New',monospace\"><span style=\"font-weight: bold\">Model: \"sequential_1\"</span>\n",
              "</pre>\n"
            ]
          },
          "metadata": {}
        },
        {
          "output_type": "display_data",
          "data": {
            "text/plain": [
              "┏━━━━━━━━━━━━━━━━━━━━━━━━━━━━━━━━━━━━━━┳━━━━━━━━━━━━━━━━━━━━━━━━━━━━━┳━━━━━━━━━━━━━━━━━┓\n",
              "┃\u001b[1m \u001b[0m\u001b[1mLayer (type)                        \u001b[0m\u001b[1m \u001b[0m┃\u001b[1m \u001b[0m\u001b[1mOutput Shape               \u001b[0m\u001b[1m \u001b[0m┃\u001b[1m \u001b[0m\u001b[1m        Param #\u001b[0m\u001b[1m \u001b[0m┃\n",
              "┡━━━━━━━━━━━━━━━━━━━━━━━━━━━━━━━━━━━━━━╇━━━━━━━━━━━━━━━━━━━━━━━━━━━━━╇━━━━━━━━━━━━━━━━━┩\n",
              "│ conv2d_2 (\u001b[38;5;33mConv2D\u001b[0m)                    │ (\u001b[38;5;45mNone\u001b[0m, \u001b[38;5;34m48\u001b[0m, \u001b[38;5;34m35\u001b[0m, \u001b[38;5;34m32\u001b[0m)          │             \u001b[38;5;34m320\u001b[0m │\n",
              "├──────────────────────────────────────┼─────────────────────────────┼─────────────────┤\n",
              "│ max_pooling2d_2 (\u001b[38;5;33mMaxPooling2D\u001b[0m)       │ (\u001b[38;5;45mNone\u001b[0m, \u001b[38;5;34m24\u001b[0m, \u001b[38;5;34m17\u001b[0m, \u001b[38;5;34m32\u001b[0m)          │               \u001b[38;5;34m0\u001b[0m │\n",
              "├──────────────────────────────────────┼─────────────────────────────┼─────────────────┤\n",
              "│ conv2d_3 (\u001b[38;5;33mConv2D\u001b[0m)                    │ (\u001b[38;5;45mNone\u001b[0m, \u001b[38;5;34m22\u001b[0m, \u001b[38;5;34m15\u001b[0m, \u001b[38;5;34m64\u001b[0m)          │          \u001b[38;5;34m18,496\u001b[0m │\n",
              "├──────────────────────────────────────┼─────────────────────────────┼─────────────────┤\n",
              "│ max_pooling2d_3 (\u001b[38;5;33mMaxPooling2D\u001b[0m)       │ (\u001b[38;5;45mNone\u001b[0m, \u001b[38;5;34m11\u001b[0m, \u001b[38;5;34m7\u001b[0m, \u001b[38;5;34m64\u001b[0m)           │               \u001b[38;5;34m0\u001b[0m │\n",
              "├──────────────────────────────────────┼─────────────────────────────┼─────────────────┤\n",
              "│ flatten_1 (\u001b[38;5;33mFlatten\u001b[0m)                  │ (\u001b[38;5;45mNone\u001b[0m, \u001b[38;5;34m4928\u001b[0m)                │               \u001b[38;5;34m0\u001b[0m │\n",
              "├──────────────────────────────────────┼─────────────────────────────┼─────────────────┤\n",
              "│ dense_2 (\u001b[38;5;33mDense\u001b[0m)                      │ (\u001b[38;5;45mNone\u001b[0m, \u001b[38;5;34m128\u001b[0m)                 │         \u001b[38;5;34m630,912\u001b[0m │\n",
              "├──────────────────────────────────────┼─────────────────────────────┼─────────────────┤\n",
              "│ dense_3 (\u001b[38;5;33mDense\u001b[0m)                      │ (\u001b[38;5;45mNone\u001b[0m, \u001b[38;5;34m7\u001b[0m)                   │             \u001b[38;5;34m903\u001b[0m │\n",
              "└──────────────────────────────────────┴─────────────────────────────┴─────────────────┘\n"
            ],
            "text/html": [
              "<pre style=\"white-space:pre;overflow-x:auto;line-height:normal;font-family:Menlo,'DejaVu Sans Mono',consolas,'Courier New',monospace\">┏━━━━━━━━━━━━━━━━━━━━━━━━━━━━━━━━━━━━━━┳━━━━━━━━━━━━━━━━━━━━━━━━━━━━━┳━━━━━━━━━━━━━━━━━┓\n",
              "┃<span style=\"font-weight: bold\"> Layer (type)                         </span>┃<span style=\"font-weight: bold\"> Output Shape                </span>┃<span style=\"font-weight: bold\">         Param # </span>┃\n",
              "┡━━━━━━━━━━━━━━━━━━━━━━━━━━━━━━━━━━━━━━╇━━━━━━━━━━━━━━━━━━━━━━━━━━━━━╇━━━━━━━━━━━━━━━━━┩\n",
              "│ conv2d_2 (<span style=\"color: #0087ff; text-decoration-color: #0087ff\">Conv2D</span>)                    │ (<span style=\"color: #00d7ff; text-decoration-color: #00d7ff\">None</span>, <span style=\"color: #00af00; text-decoration-color: #00af00\">48</span>, <span style=\"color: #00af00; text-decoration-color: #00af00\">35</span>, <span style=\"color: #00af00; text-decoration-color: #00af00\">32</span>)          │             <span style=\"color: #00af00; text-decoration-color: #00af00\">320</span> │\n",
              "├──────────────────────────────────────┼─────────────────────────────┼─────────────────┤\n",
              "│ max_pooling2d_2 (<span style=\"color: #0087ff; text-decoration-color: #0087ff\">MaxPooling2D</span>)       │ (<span style=\"color: #00d7ff; text-decoration-color: #00d7ff\">None</span>, <span style=\"color: #00af00; text-decoration-color: #00af00\">24</span>, <span style=\"color: #00af00; text-decoration-color: #00af00\">17</span>, <span style=\"color: #00af00; text-decoration-color: #00af00\">32</span>)          │               <span style=\"color: #00af00; text-decoration-color: #00af00\">0</span> │\n",
              "├──────────────────────────────────────┼─────────────────────────────┼─────────────────┤\n",
              "│ conv2d_3 (<span style=\"color: #0087ff; text-decoration-color: #0087ff\">Conv2D</span>)                    │ (<span style=\"color: #00d7ff; text-decoration-color: #00d7ff\">None</span>, <span style=\"color: #00af00; text-decoration-color: #00af00\">22</span>, <span style=\"color: #00af00; text-decoration-color: #00af00\">15</span>, <span style=\"color: #00af00; text-decoration-color: #00af00\">64</span>)          │          <span style=\"color: #00af00; text-decoration-color: #00af00\">18,496</span> │\n",
              "├──────────────────────────────────────┼─────────────────────────────┼─────────────────┤\n",
              "│ max_pooling2d_3 (<span style=\"color: #0087ff; text-decoration-color: #0087ff\">MaxPooling2D</span>)       │ (<span style=\"color: #00d7ff; text-decoration-color: #00d7ff\">None</span>, <span style=\"color: #00af00; text-decoration-color: #00af00\">11</span>, <span style=\"color: #00af00; text-decoration-color: #00af00\">7</span>, <span style=\"color: #00af00; text-decoration-color: #00af00\">64</span>)           │               <span style=\"color: #00af00; text-decoration-color: #00af00\">0</span> │\n",
              "├──────────────────────────────────────┼─────────────────────────────┼─────────────────┤\n",
              "│ flatten_1 (<span style=\"color: #0087ff; text-decoration-color: #0087ff\">Flatten</span>)                  │ (<span style=\"color: #00d7ff; text-decoration-color: #00d7ff\">None</span>, <span style=\"color: #00af00; text-decoration-color: #00af00\">4928</span>)                │               <span style=\"color: #00af00; text-decoration-color: #00af00\">0</span> │\n",
              "├──────────────────────────────────────┼─────────────────────────────┼─────────────────┤\n",
              "│ dense_2 (<span style=\"color: #0087ff; text-decoration-color: #0087ff\">Dense</span>)                      │ (<span style=\"color: #00d7ff; text-decoration-color: #00d7ff\">None</span>, <span style=\"color: #00af00; text-decoration-color: #00af00\">128</span>)                 │         <span style=\"color: #00af00; text-decoration-color: #00af00\">630,912</span> │\n",
              "├──────────────────────────────────────┼─────────────────────────────┼─────────────────┤\n",
              "│ dense_3 (<span style=\"color: #0087ff; text-decoration-color: #0087ff\">Dense</span>)                      │ (<span style=\"color: #00d7ff; text-decoration-color: #00d7ff\">None</span>, <span style=\"color: #00af00; text-decoration-color: #00af00\">7</span>)                   │             <span style=\"color: #00af00; text-decoration-color: #00af00\">903</span> │\n",
              "└──────────────────────────────────────┴─────────────────────────────┴─────────────────┘\n",
              "</pre>\n"
            ]
          },
          "metadata": {}
        },
        {
          "output_type": "display_data",
          "data": {
            "text/plain": [
              "\u001b[1m Total params: \u001b[0m\u001b[38;5;34m650,631\u001b[0m (2.48 MB)\n"
            ],
            "text/html": [
              "<pre style=\"white-space:pre;overflow-x:auto;line-height:normal;font-family:Menlo,'DejaVu Sans Mono',consolas,'Courier New',monospace\"><span style=\"font-weight: bold\"> Total params: </span><span style=\"color: #00af00; text-decoration-color: #00af00\">650,631</span> (2.48 MB)\n",
              "</pre>\n"
            ]
          },
          "metadata": {}
        },
        {
          "output_type": "display_data",
          "data": {
            "text/plain": [
              "\u001b[1m Trainable params: \u001b[0m\u001b[38;5;34m650,631\u001b[0m (2.48 MB)\n"
            ],
            "text/html": [
              "<pre style=\"white-space:pre;overflow-x:auto;line-height:normal;font-family:Menlo,'DejaVu Sans Mono',consolas,'Courier New',monospace\"><span style=\"font-weight: bold\"> Trainable params: </span><span style=\"color: #00af00; text-decoration-color: #00af00\">650,631</span> (2.48 MB)\n",
              "</pre>\n"
            ]
          },
          "metadata": {}
        },
        {
          "output_type": "display_data",
          "data": {
            "text/plain": [
              "\u001b[1m Non-trainable params: \u001b[0m\u001b[38;5;34m0\u001b[0m (0.00 B)\n"
            ],
            "text/html": [
              "<pre style=\"white-space:pre;overflow-x:auto;line-height:normal;font-family:Menlo,'DejaVu Sans Mono',consolas,'Courier New',monospace\"><span style=\"font-weight: bold\"> Non-trainable params: </span><span style=\"color: #00af00; text-decoration-color: #00af00\">0</span> (0.00 B)\n",
              "</pre>\n"
            ]
          },
          "metadata": {}
        }
      ]
    },
    {
      "cell_type": "markdown",
      "source": [
        "<br>\n",
        "\n",
        "# Fitting Model\n",
        "\n",
        "<br>"
      ],
      "metadata": {
        "id": "MMjPVVb6rb0b"
      }
    },
    {
      "cell_type": "code",
      "source": [
        "history = model.fit(x_train, y_train, epochs = 20, batch_size = 32, validation_data = (x_test, y_test))\n",
        "history"
      ],
      "metadata": {
        "colab": {
          "base_uri": "https://localhost:8080/"
        },
        "id": "vk6i9K4Yri0c",
        "outputId": "e6c78986-833f-473d-af0b-6a4d11b3f854"
      },
      "execution_count": 23,
      "outputs": [
        {
          "output_type": "stream",
          "name": "stdout",
          "text": [
            "Epoch 1/20\n",
            "\u001b[1m33/33\u001b[0m \u001b[32m━━━━━━━━━━━━━━━━━━━━\u001b[0m\u001b[37m\u001b[0m \u001b[1m5s\u001b[0m 81ms/step - accuracy: 0.3914 - loss: 1.7641 - val_accuracy: 0.4612 - val_loss: 1.6009\n",
            "Epoch 2/20\n",
            "\u001b[1m33/33\u001b[0m \u001b[32m━━━━━━━━━━━━━━━━━━━━\u001b[0m\u001b[37m\u001b[0m \u001b[1m2s\u001b[0m 73ms/step - accuracy: 0.4056 - loss: 1.6784 - val_accuracy: 0.4612 - val_loss: 1.5249\n",
            "Epoch 3/20\n",
            "\u001b[1m33/33\u001b[0m \u001b[32m━━━━━━━━━━━━━━━━━━━━\u001b[0m\u001b[37m\u001b[0m \u001b[1m2s\u001b[0m 69ms/step - accuracy: 0.4455 - loss: 1.5373 - val_accuracy: 0.5775 - val_loss: 1.2884\n",
            "Epoch 4/20\n",
            "\u001b[1m33/33\u001b[0m \u001b[32m━━━━━━━━━━━━━━━━━━━━\u001b[0m\u001b[37m\u001b[0m \u001b[1m3s\u001b[0m 86ms/step - accuracy: 0.5680 - loss: 1.2530 - val_accuracy: 0.6550 - val_loss: 0.9933\n",
            "Epoch 5/20\n",
            "\u001b[1m33/33\u001b[0m \u001b[32m━━━━━━━━━━━━━━━━━━━━\u001b[0m\u001b[37m\u001b[0m \u001b[1m5s\u001b[0m 75ms/step - accuracy: 0.6696 - loss: 0.9314 - val_accuracy: 0.7636 - val_loss: 0.7588\n",
            "Epoch 6/20\n",
            "\u001b[1m33/33\u001b[0m \u001b[32m━━━━━━━━━━━━━━━━━━━━\u001b[0m\u001b[37m\u001b[0m \u001b[1m2s\u001b[0m 69ms/step - accuracy: 0.8077 - loss: 0.6209 - val_accuracy: 0.7907 - val_loss: 0.6163\n",
            "Epoch 7/20\n",
            "\u001b[1m33/33\u001b[0m \u001b[32m━━━━━━━━━━━━━━━━━━━━\u001b[0m\u001b[37m\u001b[0m \u001b[1m2s\u001b[0m 69ms/step - accuracy: 0.8584 - loss: 0.4709 - val_accuracy: 0.8295 - val_loss: 0.5486\n",
            "Epoch 8/20\n",
            "\u001b[1m33/33\u001b[0m \u001b[32m━━━━━━━━━━━━━━━━━━━━\u001b[0m\u001b[37m\u001b[0m \u001b[1m3s\u001b[0m 91ms/step - accuracy: 0.8718 - loss: 0.3954 - val_accuracy: 0.8023 - val_loss: 0.5576\n",
            "Epoch 9/20\n",
            "\u001b[1m33/33\u001b[0m \u001b[32m━━━━━━━━━━━━━━━━━━━━\u001b[0m\u001b[37m\u001b[0m \u001b[1m4s\u001b[0m 70ms/step - accuracy: 0.8976 - loss: 0.3303 - val_accuracy: 0.8566 - val_loss: 0.5145\n",
            "Epoch 10/20\n",
            "\u001b[1m33/33\u001b[0m \u001b[32m━━━━━━━━━━━━━━━━━━━━\u001b[0m\u001b[37m\u001b[0m \u001b[1m3s\u001b[0m 74ms/step - accuracy: 0.9218 - loss: 0.2602 - val_accuracy: 0.8605 - val_loss: 0.5037\n",
            "Epoch 11/20\n",
            "\u001b[1m33/33\u001b[0m \u001b[32m━━━━━━━━━━━━━━━━━━━━\u001b[0m\u001b[37m\u001b[0m \u001b[1m2s\u001b[0m 69ms/step - accuracy: 0.9322 - loss: 0.2193 - val_accuracy: 0.8450 - val_loss: 0.4583\n",
            "Epoch 12/20\n",
            "\u001b[1m33/33\u001b[0m \u001b[32m━━━━━━━━━━━━━━━━━━━━\u001b[0m\u001b[37m\u001b[0m \u001b[1m4s\u001b[0m 99ms/step - accuracy: 0.9510 - loss: 0.1845 - val_accuracy: 0.8837 - val_loss: 0.4329\n",
            "Epoch 13/20\n",
            "\u001b[1m33/33\u001b[0m \u001b[32m━━━━━━━━━━━━━━━━━━━━\u001b[0m\u001b[37m\u001b[0m \u001b[1m3s\u001b[0m 74ms/step - accuracy: 0.9664 - loss: 0.1358 - val_accuracy: 0.8798 - val_loss: 0.4644\n",
            "Epoch 14/20\n",
            "\u001b[1m33/33\u001b[0m \u001b[32m━━━━━━━━━━━━━━━━━━━━\u001b[0m\u001b[37m\u001b[0m \u001b[1m2s\u001b[0m 72ms/step - accuracy: 0.9749 - loss: 0.1128 - val_accuracy: 0.8760 - val_loss: 0.4867\n",
            "Epoch 15/20\n",
            "\u001b[1m33/33\u001b[0m \u001b[32m━━━━━━━━━━━━━━━━━━━━\u001b[0m\u001b[37m\u001b[0m \u001b[1m2s\u001b[0m 69ms/step - accuracy: 0.9680 - loss: 0.1261 - val_accuracy: 0.8837 - val_loss: 0.4457\n",
            "Epoch 16/20\n",
            "\u001b[1m33/33\u001b[0m \u001b[32m━━━━━━━━━━━━━━━━━━━━\u001b[0m\u001b[37m\u001b[0m \u001b[1m3s\u001b[0m 69ms/step - accuracy: 0.9821 - loss: 0.0805 - val_accuracy: 0.8876 - val_loss: 0.4250\n",
            "Epoch 17/20\n",
            "\u001b[1m33/33\u001b[0m \u001b[32m━━━━━━━━━━━━━━━━━━━━\u001b[0m\u001b[37m\u001b[0m \u001b[1m3s\u001b[0m 102ms/step - accuracy: 0.9896 - loss: 0.0530 - val_accuracy: 0.8876 - val_loss: 0.4423\n",
            "Epoch 18/20\n",
            "\u001b[1m33/33\u001b[0m \u001b[32m━━━━━━━━━━━━━━━━━━━━\u001b[0m\u001b[37m\u001b[0m \u001b[1m4s\u001b[0m 74ms/step - accuracy: 0.9884 - loss: 0.0523 - val_accuracy: 0.8953 - val_loss: 0.4099\n",
            "Epoch 19/20\n",
            "\u001b[1m33/33\u001b[0m \u001b[32m━━━━━━━━━━━━━━━━━━━━\u001b[0m\u001b[37m\u001b[0m \u001b[1m2s\u001b[0m 74ms/step - accuracy: 0.9964 - loss: 0.0312 - val_accuracy: 0.8953 - val_loss: 0.4249\n",
            "Epoch 20/20\n",
            "\u001b[1m33/33\u001b[0m \u001b[32m━━━━━━━━━━━━━━━━━━━━\u001b[0m\u001b[37m\u001b[0m \u001b[1m2s\u001b[0m 70ms/step - accuracy: 0.9996 - loss: 0.0186 - val_accuracy: 0.9031 - val_loss: 0.4130\n"
          ]
        },
        {
          "output_type": "execute_result",
          "data": {
            "text/plain": [
              "<keras.src.callbacks.history.History at 0x7f6fe4b47090>"
            ]
          },
          "metadata": {},
          "execution_count": 23
        }
      ]
    },
    {
      "cell_type": "code",
      "source": [
        "history.history"
      ],
      "metadata": {
        "colab": {
          "base_uri": "https://localhost:8080/"
        },
        "id": "1iq8FaNNsc9_",
        "outputId": "156070f0-3a7c-4af1-f32a-8e44d119a796"
      },
      "execution_count": 24,
      "outputs": [
        {
          "output_type": "execute_result",
          "data": {
            "text/plain": [
              "{'accuracy': [0.4000000059604645,\n",
              "  0.4019417464733124,\n",
              "  0.462135910987854,\n",
              "  0.5961164832115173,\n",
              "  0.6951456069946289,\n",
              "  0.7941747307777405,\n",
              "  0.8592233061790466,\n",
              "  0.8834951519966125,\n",
              "  0.8999999761581421,\n",
              "  0.9184466004371643,\n",
              "  0.9252427220344543,\n",
              "  0.9543689489364624,\n",
              "  0.9699029326438904,\n",
              "  0.9718446731567383,\n",
              "  0.9718446731567383,\n",
              "  0.984466016292572,\n",
              "  0.9893203973770142,\n",
              "  0.99320387840271,\n",
              "  0.9970873594284058,\n",
              "  0.9990290999412537],\n",
              " 'loss': [1.7328122854232788,\n",
              "  1.6711945533752441,\n",
              "  1.5108486413955688,\n",
              "  1.1773823499679565,\n",
              "  0.8883866667747498,\n",
              "  0.6222968101501465,\n",
              "  0.4522271454334259,\n",
              "  0.38983896374702454,\n",
              "  0.31743311882019043,\n",
              "  0.2556907832622528,\n",
              "  0.23495446145534515,\n",
              "  0.16971325874328613,\n",
              "  0.11816030740737915,\n",
              "  0.11841051280498505,\n",
              "  0.11723454296588898,\n",
              "  0.07718819379806519,\n",
              "  0.0546124204993248,\n",
              "  0.04466131702065468,\n",
              "  0.02843155339360237,\n",
              "  0.02059854567050934],\n",
              " 'val_accuracy': [0.46124032139778137,\n",
              "  0.46124032139778137,\n",
              "  0.5775193572044373,\n",
              "  0.6550387740135193,\n",
              "  0.7635658979415894,\n",
              "  0.7906976938247681,\n",
              "  0.8294573426246643,\n",
              "  0.8023256063461304,\n",
              "  0.856589138507843,\n",
              "  0.8604651093482971,\n",
              "  0.8449612259864807,\n",
              "  0.8837209343910217,\n",
              "  0.8798449635505676,\n",
              "  0.8759689927101135,\n",
              "  0.8837209343910217,\n",
              "  0.8875969052314758,\n",
              "  0.8875969052314758,\n",
              "  0.895348846912384,\n",
              "  0.895348846912384,\n",
              "  0.9031007885932922],\n",
              " 'val_loss': [1.6008985042572021,\n",
              "  1.5248968601226807,\n",
              "  1.2883540391921997,\n",
              "  0.9933350086212158,\n",
              "  0.7587925791740417,\n",
              "  0.6162665486335754,\n",
              "  0.5486257076263428,\n",
              "  0.5576022863388062,\n",
              "  0.5145301818847656,\n",
              "  0.5036811232566833,\n",
              "  0.45829319953918457,\n",
              "  0.4328802824020386,\n",
              "  0.4644116759300232,\n",
              "  0.4867419898509979,\n",
              "  0.4457404911518097,\n",
              "  0.42495617270469666,\n",
              "  0.4422529935836792,\n",
              "  0.4099116623401642,\n",
              "  0.4249213933944702,\n",
              "  0.412977933883667]}"
            ]
          },
          "metadata": {},
          "execution_count": 24
        }
      ]
    },
    {
      "cell_type": "markdown",
      "source": [
        "<br>\n",
        "\n",
        "# Model Accuracy\n",
        "\n",
        "<br>"
      ],
      "metadata": {
        "id": "e13Eqzaqsm7T"
      }
    },
    {
      "cell_type": "code",
      "source": [
        "test_loss, test_acc = model.evaluate(x_test, y_test)\n",
        "print(f\"Test Accuracy: {test_acc * 100:.3f} %\")"
      ],
      "metadata": {
        "colab": {
          "base_uri": "https://localhost:8080/"
        },
        "id": "tvQxBbovstp8",
        "outputId": "240fb990-9e2f-482f-830a-ad87431e2869"
      },
      "execution_count": 25,
      "outputs": [
        {
          "output_type": "stream",
          "name": "stdout",
          "text": [
            "\u001b[1m9/9\u001b[0m \u001b[32m━━━━━━━━━━━━━━━━━━━━\u001b[0m\u001b[37m\u001b[0m \u001b[1m0s\u001b[0m 21ms/step - accuracy: 0.8962 - loss: 0.4723\n",
            "Test Accuracy: 90.310 %\n"
          ]
        }
      ]
    },
    {
      "cell_type": "markdown",
      "source": [
        "<br>\n",
        "\n",
        "# Classification Report\n",
        "\n",
        "<br>"
      ],
      "metadata": {
        "id": "K3MeWP_FLl0Z"
      }
    },
    {
      "cell_type": "code",
      "source": [
        "from sklearn.metrics import classification_report\n",
        "import numpy as np\n",
        "\n",
        "y_pred = model.predict(x_test)\n",
        "\n",
        "y_pred_classes = np.argmax(y_pred, axis=1)\n",
        "y_true_classes = np.argmax(y_test, axis=1)\n",
        "\n",
        "report = classification_report(y_true_classes, y_pred_classes, target_names = target_names)\n",
        "print(report)"
      ],
      "metadata": {
        "colab": {
          "base_uri": "https://localhost:8080/"
        },
        "id": "a2NvkxXaLr9u",
        "outputId": "7c5654a9-7f7e-4729-ec1f-420648c39660"
      },
      "execution_count": 34,
      "outputs": [
        {
          "output_type": "stream",
          "name": "stdout",
          "text": [
            "\u001b[1m9/9\u001b[0m \u001b[32m━━━━━━━━━━━━━━━━━━━━\u001b[0m\u001b[37m\u001b[0m \u001b[1m1s\u001b[0m 62ms/step\n",
            "                   precision    recall  f1-score   support\n",
            "\n",
            "     Ariel Sharon       0.77      0.91      0.83        11\n",
            "     Colin Powell       0.91      0.91      0.91        47\n",
            "  Donald Rumsfeld       0.82      0.82      0.82        22\n",
            "    George W Bush       0.97      0.95      0.96       119\n",
            "Gerhard Schroeder       0.78      0.95      0.86        19\n",
            "      Hugo Chavez       0.80      0.62      0.70        13\n",
            "       Tony Blair       0.85      0.85      0.85        27\n",
            "\n",
            "         accuracy                           0.90       258\n",
            "        macro avg       0.84      0.86      0.85       258\n",
            "     weighted avg       0.91      0.90      0.90       258\n",
            "\n"
          ]
        }
      ]
    },
    {
      "cell_type": "code",
      "source": [
        "model.predict(x_test)[0]"
      ],
      "metadata": {
        "colab": {
          "base_uri": "https://localhost:8080/"
        },
        "id": "GvgJTGU6YbNY",
        "outputId": "4048a05b-61ee-4bec-f40f-6fc26356a1cb"
      },
      "execution_count": 38,
      "outputs": [
        {
          "output_type": "stream",
          "name": "stdout",
          "text": [
            "\u001b[1m9/9\u001b[0m \u001b[32m━━━━━━━━━━━━━━━━━━━━\u001b[0m\u001b[37m\u001b[0m \u001b[1m0s\u001b[0m 31ms/step\n"
          ]
        },
        {
          "output_type": "execute_result",
          "data": {
            "text/plain": [
              "array([1.9872509e-08, 3.2246181e-08, 9.5230171e-06, 9.9952346e-01,\n",
              "       1.5828283e-08, 9.4222196e-06, 4.5758832e-04], dtype=float32)"
            ]
          },
          "metadata": {},
          "execution_count": 38
        }
      ]
    },
    {
      "cell_type": "code",
      "source": [
        "np.argmax(model.predict(x_test), axis = 1)[0]"
      ],
      "metadata": {
        "colab": {
          "base_uri": "https://localhost:8080/"
        },
        "id": "YNzrP9uEYRFU",
        "outputId": "36e8a952-caef-44d7-864a-446a21500465"
      },
      "execution_count": 39,
      "outputs": [
        {
          "output_type": "stream",
          "name": "stdout",
          "text": [
            "\u001b[1m9/9\u001b[0m \u001b[32m━━━━━━━━━━━━━━━━━━━━\u001b[0m\u001b[37m\u001b[0m \u001b[1m0s\u001b[0m 45ms/step\n"
          ]
        },
        {
          "output_type": "execute_result",
          "data": {
            "text/plain": [
              "np.int64(3)"
            ]
          },
          "metadata": {},
          "execution_count": 39
        }
      ]
    },
    {
      "cell_type": "markdown",
      "source": [
        "<br>\n",
        "\n",
        "# Image Name Predictor\n",
        "\n",
        "<br>"
      ],
      "metadata": {
        "id": "K_YNFghONGAV"
      }
    },
    {
      "cell_type": "code",
      "source": [
        "import numpy as np\n",
        "import tensorflow as tf\n",
        "import matplotlib.pyplot as plt\n",
        "\n",
        "def predict_face_from_dataset(index):\n",
        "    img = x_test[index]\n",
        "\n",
        "    img_expanded = np.expand_dims(img, axis=0)\n",
        "\n",
        "    prediction = model.predict(img_expanded)\n",
        "    predicted_class = np.argmax(prediction)\n",
        "    predicted_name = target_names[predicted_class]\n",
        "\n",
        "    plt.imshow(img.squeeze(), cmap=\"gray\")\n",
        "    plt.title(f\"Predicted: {predicted_name}\")\n",
        "    plt.axis(\"off\")\n",
        "    plt.show()\n",
        "\n",
        "predict_face_from_dataset(7)"
      ],
      "metadata": {
        "colab": {
          "base_uri": "https://localhost:8080/",
          "height": 445
        },
        "id": "_LtG9MnVNMdc",
        "outputId": "ea88bada-1ba6-45c0-8a5b-9b562d698214"
      },
      "execution_count": 27,
      "outputs": [
        {
          "output_type": "stream",
          "name": "stdout",
          "text": [
            "\u001b[1m1/1\u001b[0m \u001b[32m━━━━━━━━━━━━━━━━━━━━\u001b[0m\u001b[37m\u001b[0m \u001b[1m0s\u001b[0m 37ms/step\n"
          ]
        },
        {
          "output_type": "display_data",
          "data": {
            "text/plain": [
              "<Figure size 640x480 with 1 Axes>"
            ],
            "image/png": "[encoded data removed]"
          },
          "metadata": {}
        }
      ]
    },
    {
      "cell_type": "markdown",
      "source": [
        "<br>\n",
        "\n",
        "# Model Saving\n",
        "\n",
        "<br>"
      ],
      "metadata": {
        "id": "RhEuUUtCNTQ3"
      }
    },
    {
      "cell_type": "code",
      "source": [
        "saved_model = model.save(\"lfw_prone.keras\")"
      ],
      "metadata": {
        "id": "wrsDdXn5OgyT"
      },
      "execution_count": 40,
      "outputs": []
    },
    {
      "cell_type": "markdown",
      "source": [
        "<br>\n",
        "\n",
        "# Downloading Saved Model\n",
        "\n",
        "<br>"
      ],
      "metadata": {
        "id": "F3kVA3qdb096"
      }
    },
    {
      "cell_type": "code",
      "source": [
        "from google.colab import files\n",
        "files.download(\"lfw_prone.keras\")"
      ],
      "metadata": {
        "id": "ingwwEsxOycd",
        "colab": {
          "base_uri": "https://localhost:8080/",
          "height": 17
        },
        "outputId": "8d165111-1a65-4a2e-8a6f-8b316dd2835b"
      },
      "execution_count": 42,
      "outputs": [
        {
          "output_type": "display_data",
          "data": {
            "text/plain": [
              "<IPython.core.display.Javascript object>"
            ],
            "application/javascript": [
              "\n",
              "    async function download(id, filename, size) {\n",
              "      if (!google.colab.kernel.accessAllowed) {\n",
              "        return;\n",
              "      }\n",
              "      const div = document.createElement('div');\n",
              "      const label = document.createElement('label');\n",
              "      label.textContent = `Downloading \"${filename}\": `;\n",
              "      div.appendChild(label);\n",
              "      const progress = document.createElement('progress');\n",
              "      progress.max = size;\n",
              "      div.appendChild(progress);\n",
              "      document.body.appendChild(div);\n",
              "\n",
              "      const buffers = [];\n",
              "      let downloaded = 0;\n",
              "\n",
              "      const channel = await google.colab.kernel.comms.open(id);\n",
              "      // Send a message to notify the kernel that we're ready.\n",
              "      channel.send({})\n",
              "\n",
              "      for await (const message of channel.messages) {\n",
              "        // Send a message to notify the kernel that we're ready.\n",
              "        channel.send({})\n",
              "        if (message.buffers) {\n",
              "          for (const buffer of message.buffers) {\n",
              "            buffers.push(buffer);\n",
              "            downloaded += buffer.byteLength;\n",
              "            progress.value = downloaded;\n",
              "          }\n",
              "        }\n",
              "      }\n",
              "      const blob = new Blob(buffers, {type: 'application/binary'});\n",
              "      const a = document.createElement('a');\n",
              "      a.href = window.URL.createObjectURL(blob);\n",
              "      a.download = filename;\n",
              "      div.appendChild(a);\n",
              "      a.click();\n",
              "      div.remove();\n",
              "    }\n",
              "  "
            ]
          },
          "metadata": {}
        },
        {
          "output_type": "display_data",
          "data": {
            "text/plain": [
              "<IPython.core.display.Javascript object>"
            ],
            "application/javascript": [
              "download(\"download_707e528e-264b-465a-a42b-39a8da2ad658\", \"lfw_prone.keras\", 7844945)"
            ]
          },
          "metadata": {}
        }
      ]
    }
  ]
}